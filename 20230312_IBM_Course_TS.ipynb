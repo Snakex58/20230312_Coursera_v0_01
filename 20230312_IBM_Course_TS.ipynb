{
  "nbformat": 4,
  "nbformat_minor": 0,
  "metadata": {
    "colab": {
      "provenance": []
    },
    "kernelspec": {
      "name": "python3",
      "display_name": "Python 3"
    },
    "language_info": {
      "name": "python"
    }
  },
  "cells": [
    {
      "cell_type": "markdown",
      "source": [
        "# My Jupyter Notebook on IBM Watson Studio"
      ],
      "metadata": {
        "id": "a7QxxPLWH-AL"
      }
    },
    {
      "cell_type": "markdown",
      "source": [
        "**Tom Standfuß**\n",
        "\n",
        "Sales Manager, working on the final Assignment"
      ],
      "metadata": {
        "id": "Bh8_RvN_IOhz"
      }
    },
    {
      "cell_type": "markdown",
      "source": [
        "*Sorry for not using the IBM-Jupyter-Software, but it was not working on the 12th of March 2023...*"
      ],
      "metadata": {
        "id": "KmUN2LJkIfli"
      }
    },
    {
      "cell_type": "markdown",
      "source": [
        "Some data-Science-Languages are for example:\n",
        "1. Julia\n",
        "2. Python\n",
        "3. R\n",
        "4. SQL "
      ],
      "metadata": {
        "id": "q1wglKOfIyxq"
      }
    },
    {
      "cell_type": "markdown",
      "source": [
        "Some data-Science-Libraries are for example:\n",
        "1. TensorFlow\n",
        "2. NumPy\n",
        "3. SciPy \n",
        "4. Pandas\n",
        "5. Matplotlib"
      ],
      "metadata": {
        "id": "am9qFfA3MZwE"
      }
    },
    {
      "cell_type": "markdown",
      "source": [
        "Table of data science-tools:\n",
        "\n",
        "| Nr. | Tool |\n",
        "| :-: | :- | \n",
        "| 1 | IBM Watson |\n",
        "| 2 | IBM SPSS Modeller |\n",
        "| 3 | Google Colab |"
      ],
      "metadata": {
        "id": "QW6TaFbXMoKL"
      }
    },
    {
      "cell_type": "markdown",
      "source": [
        "Arithmic-Expression-Example:\n",
        "\n",
        "print(1+1)\n",
        "\n",
        "Should output = 2"
      ],
      "metadata": {
        "id": "GgvUaVzbNia7"
      }
    },
    {
      "cell_type": "code",
      "execution_count": 6,
      "metadata": {
        "colab": {
          "base_uri": "https://localhost:8080/"
        },
        "id": "UHka0a5hH2Sj",
        "outputId": "81bdffca-a4c4-4d0b-93fb-f54cbb6f581d"
      },
      "outputs": [
        {
          "output_type": "stream",
          "name": "stdout",
          "text": [
            "8\n"
          ]
        }
      ],
      "source": [
        "print(1+1+3*2)"
      ]
    },
    {
      "cell_type": "code",
      "source": [
        "minutes = 30\n",
        "hours = minutes/60\n",
        "print(\"Hours = \"+str(hours))"
      ],
      "metadata": {
        "colab": {
          "base_uri": "https://localhost:8080/"
        },
        "id": "GzGcLaRON3Pr",
        "outputId": "3be7b7e1-c45e-4560-9dae-ecdcd0ff7ff1"
      },
      "execution_count": 9,
      "outputs": [
        {
          "output_type": "stream",
          "name": "stdout",
          "text": [
            "Hours = 0.5\n"
          ]
        }
      ]
    },
    {
      "cell_type": "markdown",
      "source": [
        "List of Objectives:\n",
        "* Complete this course correctly\n",
        "* Upload it to my Github\n",
        "* Share this notebook"
      ],
      "metadata": {
        "id": "L58DRiUgOKvd"
      }
    },
    {
      "cell_type": "markdown",
      "source": [
        "# My name is Tom Standfuß"
      ],
      "metadata": {
        "id": "78eRBz70OWsD"
      }
    }
  ]
}
